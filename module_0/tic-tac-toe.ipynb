{
 "cells": [
  {
   "cell_type": "code",
   "execution_count": 1,
   "metadata": {},
   "outputs": [],
   "source": [
    "board = [[]]\n",
    "# Проверка размера доски, пока работает 3х3 и 4х4, можно сделать и больше размеры, но тогда придется проверять\n",
    "# по правилам вписывается ли квадрат 4x4 в квадрат большего размера, может на досуге поколдую\n",
    "def init_board(size):\n",
    "    global board\n",
    "    if type(size) == int and 3 <= size <= 4:\n",
    "        board = [[\"-\" for _ in range(size)] for _ in range(size)]\n",
    "        return True\n",
    "    else:\n",
    "        return False\n",
    "    \n",
    "# Рисуем доску\n",
    "def draw_board(board):\n",
    "    print(\" \", end = '')\n",
    "    for i, val in enumerate(board):\n",
    "        print(\" \", i, end = '')\n",
    "    print('', end = '\\n')    \n",
    "    for i, val in enumerate(board):\n",
    "        print(i, end = '')\n",
    "        for n, val2 in enumerate(val):\n",
    "            print(\" \", val2, end='')\n",
    "        print('', end = '\\n') "
   ]
  },
  {
   "cell_type": "code",
   "execution_count": 2,
   "metadata": {},
   "outputs": [],
   "source": [
    "# Проверка диагоналей\n",
    "def check_diagonal(symb, size): \n",
    "    toright, toleft = True, True\n",
    "    for i in range(size):\n",
    "        toright = toright and board[i][i] == symb\n",
    "        toleft  = toleft and board[3-i-1][i] == symb\n",
    "    if toright or toleft: \n",
    "        return True\n",
    "    else:\n",
    "        return False \n"
   ]
  },
  {
   "cell_type": "code",
   "execution_count": 3,
   "metadata": {},
   "outputs": [],
   "source": [
    "# Проверка линий (строк, столбцов)\n",
    "def check_lines(symb, size): \n",
    "    for col in range(size):\n",
    "        cols, rows = True, True\n",
    "        for row in range(size):\n",
    "            rows = rows and board[col][row] == symb\n",
    "            cols = cols and board[row][col] == symb\n",
    "        # Это условие после каждой проверки колонки и столбца\n",
    "        # позволяет остановить дальнейшее выполнение, без проверки \n",
    "        # всех остальных столбцов и строк.\n",
    "        if cols or rows:\n",
    "            return True \n",
    "    return False \n"
   ]
  },
  {
   "cell_type": "code",
   "execution_count": 4,
   "metadata": {},
   "outputs": [],
   "source": [
    "# Проверка диагоналей и линий на победу X или 0 с выводом сообщения\n",
    "def check_result(size):\n",
    "    if check_diagonal('x', size):\n",
    "        print(\"Победа 'x' диагональю\")\n",
    "        return True\n",
    "    elif check_diagonal('o', size):\n",
    "        print(\"Победа 'o' диагональю\")\n",
    "        return True\n",
    "    elif check_lines('x', size):\n",
    "        print(\"Победа 'x' прямой линией\")\n",
    "        return True\n",
    "    elif check_lines('o', size):\n",
    "        print(\"Победа 'o' прямой линией\")\n",
    "        return True\n",
    "    else:\n",
    "        return False"
   ]
  },
  {
   "cell_type": "code",
   "execution_count": 5,
   "metadata": {},
   "outputs": [],
   "source": [
    "# Игра рисуем доску определенного размера, вводим координаты x,y места куда хотим поставить символ\n",
    "# каждый ход символы чередуются, пользователь вводит только координаты.\n",
    "# на случай ничьей (гипотетической) проверяем еще и количество ходов\n",
    "def game(board_size):\n",
    "    if not init_board(board_size):\n",
    "        print(\"Не верный размер доски\")\n",
    "        return\n",
    "    draw_board(board)\n",
    "    symb = 'x'\n",
    "    step = 0\n",
    "    repeat = False\n",
    "    while not check_result(board_size):\n",
    "        if repeat:\n",
    "            repeat = False\n",
    "        else:    \n",
    "            if symb == 'x':\n",
    "                symb = 'o'\n",
    "            else:\n",
    "                symb = 'x'\n",
    "        coord = input(\"Введите номер строки и столбца <x y> через пробел для {}:\".format(symb))\n",
    "        row, col = tuple(map(int, coord.split()))\n",
    "        if board[row][col] != '-':\n",
    "            repeat = True\n",
    "            continue\n",
    "        board[row][col] = symb\n",
    "        draw_board(board)\n",
    "        step +=1\n",
    "        print(f\"Ход {step}\")\n",
    "        if step == board_size**2:\n",
    "            print(\"Ничья! ))\")\n",
    "            break\n",
    "            "
   ]
  },
  {
   "cell_type": "code",
   "execution_count": 6,
   "metadata": {},
   "outputs": [
    {
     "name": "stdout",
     "output_type": "stream",
     "text": [
      "   0  1  2\n",
      "0  -  -  -\n",
      "1  -  -  -\n",
      "2  -  -  -\n"
     ]
    },
    {
     "name": "stdin",
     "output_type": "stream",
     "text": [
      "Введите номер строки и столбца <x y> через пробел для o: 1 1\n"
     ]
    },
    {
     "name": "stdout",
     "output_type": "stream",
     "text": [
      "   0  1  2\n",
      "0  -  -  -\n",
      "1  -  o  -\n",
      "2  -  -  -\n",
      "Ход 1\n"
     ]
    },
    {
     "name": "stdin",
     "output_type": "stream",
     "text": [
      "Введите номер строки и столбца <x y> через пробел для x: 1 1\n",
      "Введите номер строки и столбца <x y> через пробел для x: 0 0\n"
     ]
    },
    {
     "name": "stdout",
     "output_type": "stream",
     "text": [
      "   0  1  2\n",
      "0  x  -  -\n",
      "1  -  o  -\n",
      "2  -  -  -\n",
      "Ход 2\n"
     ]
    },
    {
     "name": "stdin",
     "output_type": "stream",
     "text": [
      "Введите номер строки и столбца <x y> через пробел для o: 1 0\n"
     ]
    },
    {
     "name": "stdout",
     "output_type": "stream",
     "text": [
      "   0  1  2\n",
      "0  x  -  -\n",
      "1  o  o  -\n",
      "2  -  -  -\n",
      "Ход 3\n"
     ]
    },
    {
     "name": "stdin",
     "output_type": "stream",
     "text": [
      "Введите номер строки и столбца <x y> через пробел для x: 0 1\n"
     ]
    },
    {
     "name": "stdout",
     "output_type": "stream",
     "text": [
      "   0  1  2\n",
      "0  x  x  -\n",
      "1  o  o  -\n",
      "2  -  -  -\n",
      "Ход 4\n"
     ]
    },
    {
     "name": "stdin",
     "output_type": "stream",
     "text": [
      "Введите номер строки и столбца <x y> через пробел для o: 1 2\n"
     ]
    },
    {
     "name": "stdout",
     "output_type": "stream",
     "text": [
      "   0  1  2\n",
      "0  x  x  -\n",
      "1  o  o  o\n",
      "2  -  -  -\n",
      "Ход 5\n",
      "Победа 'o' прямой линией\n"
     ]
    }
   ],
   "source": [
    "game(3) "
   ]
  },
  {
   "cell_type": "code",
   "execution_count": null,
   "metadata": {},
   "outputs": [],
   "source": []
  }
 ],
 "metadata": {
  "kernelspec": {
   "display_name": "Python 3",
   "language": "python",
   "name": "python3"
  },
  "language_info": {
   "codemirror_mode": {
    "name": "ipython",
    "version": 3
   },
   "file_extension": ".py",
   "mimetype": "text/x-python",
   "name": "python",
   "nbconvert_exporter": "python",
   "pygments_lexer": "ipython3",
   "version": "3.7.3"
  }
 },
 "nbformat": 4,
 "nbformat_minor": 4
}
